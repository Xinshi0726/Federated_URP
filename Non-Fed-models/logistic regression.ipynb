{
 "cells": [
  {
   "cell_type": "code",
   "execution_count": 4,
   "metadata": {},
   "outputs": [],
   "source": [
    "import sympy as sp\n",
    "import pandas as pd\n",
    "import numpy as np\n",
    "import scipy.linalg as sp1\n",
    "import math"
   ]
  },
  {
   "cell_type": "code",
   "execution_count": 85,
   "metadata": {},
   "outputs": [
    {
     "name": "stdout",
     "output_type": "stream",
     "text": [
      "    Value  label    value1\n",
      "0     0.0      0  0.700000\n",
      "1     0.1      0  0.600000\n",
      "2     0.2      0  0.500000\n",
      "3     0.3      0  0.400000\n",
      "4     0.4      0  0.300000\n",
      "5     0.5      0  0.200000\n",
      "6     0.6      1  0.100000\n",
      "7     0.7      1  0.001000\n",
      "8     0.8      1  0.000100\n",
      "9     0.9      1  0.000001\n",
      "10    1.0      1  0.000000\n",
      "[[1.00000101 1.00000049 1.00000035]]\n",
      "[[1.00000101 1.00000049 1.00000035]]\n",
      "[[ 10.74958672 -10.60857867  -4.26062738]]\n",
      "1.0\n"
     ]
    }
   ],
   "source": [
    "def getp1(x,beta):\n",
    "    p1 = math.exp(beta.dot(x.transpose()))/(1+math.exp(beta.dot(x.transpose())))\n",
    "    return p1\n",
    "def logistic_regression(label_class, df):\n",
    "    x = np.array(df)\n",
    "    x = np.column_stack((x,np.ones(len(x),dtype = int)))\n",
    "    beta = (np.random.randn(len(x[0]), 1) * 0.0000005 + 1).transpose()\n",
    "    print(beta)\n",
    "    print(beta)\n",
    "    for i in range(100):\n",
    "        first_deriv = -1*x[0]*(label[0]-getp1(x[0],beta))\n",
    "        second_deriv = float(x[0]@x[0].transpose()*getp1(x[0],beta)*(1-getp1(x[0],beta)))\n",
    "        for l in range(1,len(x)):\n",
    "            first_deriv -= x[l]*(label[l]-getp1(x[l],beta))\n",
    "            second_deriv += float(np.dot(x[l],x[l].transpose())*getp1(x[l],beta)*(1-getp1(x[l],beta)))\n",
    "        if second_deriv == 0.00000:\n",
    "            print(\"stopped on the {}th run\".format(i))\n",
    "            break\n",
    "        beta = beta - (first_deriv/second_deriv)\n",
    "    print(beta)\n",
    "    print(math.exp(beta.dot(np.array([10,1,1]).transpose()))/(1+math.exp(beta.dot(np.array([10,1,1]).transpose()))))\n",
    "test = pd.read_csv(\"test.csv\")\n",
    "print(test)\n",
    "label = test[\"label\"]\n",
    "test = test.drop(columns=[\"label\"])\n",
    "logistic_regression(label,test)"
   ]
  },
  {
   "cell_type": "code",
   "execution_count": null,
   "metadata": {},
   "outputs": [],
   "source": []
  },
  {
   "cell_type": "code",
   "execution_count": null,
   "metadata": {},
   "outputs": [],
   "source": []
  },
  {
   "cell_type": "code",
   "execution_count": null,
   "metadata": {},
   "outputs": [],
   "source": []
  }
 ],
 "metadata": {
  "kernelspec": {
   "display_name": "tensorflow-gpu",
   "language": "python",
   "name": "tensorflow-gpu"
  },
  "language_info": {
   "codemirror_mode": {
    "name": "ipython",
    "version": 3
   },
   "file_extension": ".py",
   "mimetype": "text/x-python",
   "name": "python",
   "nbconvert_exporter": "python",
   "pygments_lexer": "ipython3",
   "version": "3.7.7"
  }
 },
 "nbformat": 4,
 "nbformat_minor": 4
}
